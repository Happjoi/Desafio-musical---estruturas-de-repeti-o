{
 "cells": [
  {
   "cell_type": "code",
   "execution_count": 10,
   "metadata": {},
   "outputs": [
    {
     "name": "stdout",
     "output_type": "stream",
     "text": [
      "5 foram passear, além das montanhas para brincar, a mamãe gritou: Quá, quá, quá, mas só 4 patinhos voltaram de lá\n",
      "4 foram passear, além das montanhas para brincar, a mamãe gritou: Quá, quá, quá, mas só 3 patinhos voltaram de lá\n",
      "3 foram passear, além das montanhas para brincar, a mamãe gritou: Quá, quá, quá, mas só 2 patinhos voltaram de lá\n",
      "2 foram passear, além das montanhas para brincar, a mamãe gritou: Quá, quá, quá, mas só 1 patinhos voltaram de lá\n",
      "1 foi passear, além das montanhas Para brincar, a mamãe gritou: Quá, quá, quá, quá , mas nenhum patinho voltou de lá\n"
     ]
    }
   ],
   "source": [
    "for patinho in [5, 4, 3, 2, 1]:\n",
    "    if patinho == 1:\n",
    "        print( patinho , 'foi passear, além das montanhas Para brincar, a mamãe gritou: Quá, quá, quá, quá , mas nenhum patinho voltou de lá')\n",
    "    else:\n",
    "        print( patinho, 'foram passear, além das montanhas para brincar, a mamãe gritou: Quá, quá, quá, mas só', patinho - 1, 'patinhos voltaram de lá')\n"
   ]
  },
  {
   "cell_type": "code",
   "execution_count": 11,
   "metadata": {},
   "outputs": [
    {
     "name": "stdout",
     "output_type": "stream",
     "text": [
      "1 elefante incomoda muita gente\n",
      "2 elefantes incomodam incomodam  muito mais!\n",
      "3 elefantes incomodam muita gente\n",
      "4 elefantes incomodam incomodam incomodam incomodam  muito mais!\n",
      "5 elefantes incomodam muita gente\n",
      "6 elefantes incomodam incomodam incomodam incomodam incomodam incomodam  muito mais!\n",
      "7 elefantes incomodam muita gente\n",
      "8 elefantes incomodam incomodam incomodam incomodam incomodam incomodam incomodam incomodam  muito mais!\n",
      "9 elefantes incomodam muita gente\n",
      "10 elefantes incomodam incomodam incomodam incomodam incomodam incomodam incomodam incomodam incomodam incomodam  muito mais!\n",
      " \n",
      "10 elefantes incomodam muita gente\n",
      "9 elefantes incomodam incomodam incomodam incomodam incomodam incomodam incomodam incomodam incomodam  muito menos!\n",
      "8 elefantes incomodam muita gente\n",
      "7 elefantes incomodam incomodam incomodam incomodam incomodam incomodam incomodam  muito menos!\n",
      "6 elefantes incomodam muita gente\n",
      "5 elefantes incomodam incomodam incomodam incomodam incomodam  muito menos!\n",
      "4 elefantes incomodam muita gente\n",
      "3 elefantes incomodam incomodam incomodam  muito menos!\n",
      "2 elefantes incomodam muita gente\n",
      "1 elefante incomoda muita gente\n"
     ]
    }
   ],
   "source": [
    "for elefante in [1, 2, 3, 4, 5, 6, 7, 8, 9, 10]:\n",
    "    palavraincomondam = 'incomodam ' * elefante\n",
    "    if elefante == 1:\n",
    "        print(elefante,'elefante incomoda muita gente')\n",
    "    elif elefante %2 == 0 :\n",
    "        print (elefante,'elefantes', palavraincomondam,'muito mais!')\n",
    "    else:\n",
    "        print(elefante,'elefantes incomodam muita gente' )\n",
    "print(' ')\n",
    "for elefante in [10, 9, 8, 7, 6, 5, 4, 3, 2, 1]:\n",
    "    palavraincomondam = 'incomodam ' * elefante\n",
    "    if elefante == 1:\n",
    "        print(elefante,'elefante incomoda muita gente')\n",
    "    elif elefante %2 == 0 + 1 :\n",
    "        print (elefante,'elefantes', palavraincomondam,'muito menos!')\n",
    "    else:\n",
    "        print(elefante,'elefantes incomodam muita gente' )"
   ]
  },
  {
   "cell_type": "code",
   "execution_count": 24,
   "metadata": {},
   "outputs": [
    {
     "name": "stdout",
     "output_type": "stream",
     "text": [
      "Mariana conta 1 Mariana conta 1 é 1 é Ana viva Mariana, viva Mariana\n",
      "Mariana conta 2 Mariana conta 2 é 2, é 1 é Ana viva Mariana, viva Mariana\n",
      "Mariana conta 3 Mariana conta 3 é 3, é 1, é 2 é Ana viva Mariana, viva Mariana\n",
      "Mariana conta 4 Mariana conta 4 é 4, é 1, é 2, é 3 é Ana viva Mariana, viva Mariana\n",
      "Mariana conta 5 Mariana conta 5 é 5, é 1, é 2, é 3, é 4 é Ana viva Mariana, viva Mariana\n",
      "Mariana conta 6 Mariana conta 6 é 6, é 1, é 2, é 3, é 4, é 5 é Ana viva Mariana, viva Mariana\n",
      "Mariana conta 7 Mariana conta 7 é 7, é 1, é 2, é 3, é 4, é 5, é 6 é Ana viva Mariana, viva Mariana\n",
      "Mariana conta 8 Mariana conta 8 é 8, é 1, é 2, é 3, é 4, é 5, é 6, é 7 é Ana viva Mariana, viva Mariana\n",
      "Mariana conta 9 Mariana conta 9 é 9, é 1, é 2, é 3, é 4, é 5, é 6, é 7, é 8 é Ana viva Mariana, viva Mariana\n",
      "Mariana conta 10 Mariana conta 10 é 10, é 1, é 2, é 3, é 4, é 5, é 6, é 7, é 8, é 9 é Ana viva Mariana, viva Mariana\n"
     ]
    }
   ],
   "source": [
    "n = [1, 2, 3, 4, 5, 6, 7, 8, 9, 10]\n",
    "\n",
    "acumulados = \"\"\n",
    "for i, num in enumerate(n):\n",
    "    acumulados = f\"é {num}\"\n",
    "    for j in range(i):\n",
    "        acumulados += f\", é {n[j]}\"\n",
    "    print(f'Mariana conta {num} Mariana conta {num} {acumulados} é Ana viva Mariana, viva Mariana')\n",
    "    acumulados = \"\""
   ]
  },
  {
   "cell_type": "code",
   "execution_count": 27,
   "metadata": {},
   "outputs": [
    {
     "name": "stdout",
     "output_type": "stream",
     "text": [
      "Mariana conta 1 Mariana conta 1\n",
      "é 1\n",
      "É Ana\n",
      "Viva mariana\n",
      "Viva mariana\n",
      "Mariana conta 2 Mariana conta 2\n",
      "é 1\n",
      "é 2\n",
      "É Ana\n",
      "Viva mariana\n",
      "Viva mariana\n",
      "Mariana conta 3 Mariana conta 3\n",
      "é 1\n",
      "é 2\n",
      "é 3\n",
      "É Ana\n",
      "Viva mariana\n",
      "Viva mariana\n",
      "Mariana conta 4 Mariana conta 4\n",
      "é 1\n",
      "é 2\n",
      "é 3\n",
      "é 4\n",
      "É Ana\n",
      "Viva mariana\n",
      "Viva mariana\n",
      "Mariana conta 5 Mariana conta 5\n",
      "é 1\n",
      "é 2\n",
      "é 3\n",
      "é 4\n",
      "é 5\n",
      "É Ana\n",
      "Viva mariana\n",
      "Viva mariana\n",
      "Mariana conta 6 Mariana conta 6\n",
      "é 1\n",
      "é 2\n",
      "é 3\n",
      "é 4\n",
      "é 5\n",
      "é 6\n",
      "É Ana\n",
      "Viva mariana\n",
      "Viva mariana\n",
      "Mariana conta 7 Mariana conta 7\n",
      "é 1\n",
      "é 2\n",
      "é 3\n",
      "é 4\n",
      "é 5\n",
      "é 6\n",
      "é 7\n",
      "É Ana\n",
      "Viva mariana\n",
      "Viva mariana\n",
      "Mariana conta 8 Mariana conta 8\n",
      "é 1\n",
      "é 2\n",
      "é 3\n",
      "é 4\n",
      "é 5\n",
      "é 6\n",
      "é 7\n",
      "é 8\n",
      "É Ana\n",
      "Viva mariana\n",
      "Viva mariana\n",
      "Mariana conta 9 Mariana conta 9\n",
      "é 1\n",
      "é 2\n",
      "é 3\n",
      "é 4\n",
      "é 5\n",
      "é 6\n",
      "é 7\n",
      "é 8\n",
      "é 9\n",
      "É Ana\n",
      "Viva mariana\n",
      "Viva mariana\n",
      "Mariana conta 10 Mariana conta 10\n",
      "é 1\n",
      "é 2\n",
      "é 3\n",
      "é 4\n",
      "é 5\n",
      "é 6\n",
      "é 7\n",
      "é 8\n",
      "é 9\n",
      "é 10\n",
      "É Ana\n",
      "Viva mariana\n",
      "Viva mariana\n"
     ]
    }
   ],
   "source": [
    "for Mariana in [1,2,3,4,5,6,7,8,9,10]:\n",
    "  print(\"Mariana conta\" ,Mariana, \"Mariana conta\", Mariana,)\n",
    "  h = 1\n",
    "  while(h <= Mariana):\n",
    "    print(\"é\", h)\n",
    "    h=h+1\n",
    "  print(\"É Ana\")\n",
    "  print(\"Viva mariana\")\n",
    "  print(\"Viva mariana\")"
   ]
  }
 ],
 "metadata": {
  "kernelspec": {
   "display_name": "Python 3",
   "language": "python",
   "name": "python3"
  },
  "language_info": {
   "codemirror_mode": {
    "name": "ipython",
    "version": 3
   },
   "file_extension": ".py",
   "mimetype": "text/x-python",
   "name": "python",
   "nbconvert_exporter": "python",
   "pygments_lexer": "ipython3",
   "version": "3.11.9"
  }
 },
 "nbformat": 4,
 "nbformat_minor": 2
}
